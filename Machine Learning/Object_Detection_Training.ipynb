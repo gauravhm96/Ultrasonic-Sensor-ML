{
 "cells": [
  {
   "cell_type": "code",
   "execution_count": 6,
   "metadata": {},
   "outputs": [
    {
     "name": "stderr",
     "output_type": "stream",
     "text": [
      "<>:20: SyntaxWarning: invalid escape sequence '\\M'\n",
      "<>:21: SyntaxWarning: invalid escape sequence '\\M'\n",
      "<>:20: SyntaxWarning: invalid escape sequence '\\M'\n",
      "<>:21: SyntaxWarning: invalid escape sequence '\\M'\n",
      "C:\\Users\\gaura\\AppData\\Local\\Temp\\ipykernel_18104\\4148895665.py:20: SyntaxWarning: invalid escape sequence '\\M'\n",
      "  peak_dir = 'E:\\\\Frankfurt University of Applied Sciences\\\\Individual Project\\Machine Learning\\\\peak_spectrogram1'\n",
      "C:\\Users\\gaura\\AppData\\Local\\Temp\\ipykernel_18104\\4148895665.py:21: SyntaxWarning: invalid escape sequence '\\M'\n",
      "  non_peak_dir = 'E:\\\\Frankfurt University of Applied Sciences\\\\Individual Project\\Machine Learning\\\\Non_peak_spectrogram'\n",
      "c:\\Users\\gaura\\AppData\\Local\\Programs\\Python\\Python312\\Lib\\site-packages\\keras\\src\\layers\\convolutional\\base_conv.py:99: UserWarning: Do not pass an `input_shape`/`input_dim` argument to a layer. When using Sequential models, prefer using an `Input(shape)` object as the first layer in the model instead.\n",
      "  super().__init__(\n"
     ]
    },
    {
     "name": "stdout",
     "output_type": "stream",
     "text": [
      "Epoch 1/10\n",
      "\u001b[1m12/12\u001b[0m \u001b[32m━━━━━━━━━━━━━━━━━━━━\u001b[0m\u001b[37m\u001b[0m \u001b[1m39s\u001b[0m 3s/step - accuracy: 0.7362 - loss: 1.0753 - val_accuracy: 1.0000 - val_loss: 0.0268\n",
      "Epoch 2/10\n",
      "\u001b[1m12/12\u001b[0m \u001b[32m━━━━━━━━━━━━━━━━━━━━\u001b[0m\u001b[37m\u001b[0m \u001b[1m46s\u001b[0m 4s/step - accuracy: 1.0000 - loss: 0.0098 - val_accuracy: 1.0000 - val_loss: 4.0497e-06\n",
      "Epoch 3/10\n",
      "\u001b[1m12/12\u001b[0m \u001b[32m━━━━━━━━━━━━━━━━━━━━\u001b[0m\u001b[37m\u001b[0m \u001b[1m44s\u001b[0m 4s/step - accuracy: 1.0000 - loss: 2.4778e-04 - val_accuracy: 1.0000 - val_loss: 6.9824e-09\n",
      "Epoch 4/10\n",
      "\u001b[1m12/12\u001b[0m \u001b[32m━━━━━━━━━━━━━━━━━━━━\u001b[0m\u001b[37m\u001b[0m \u001b[1m44s\u001b[0m 4s/step - accuracy: 1.0000 - loss: 2.7307e-06 - val_accuracy: 1.0000 - val_loss: 1.2507e-08\n",
      "Epoch 5/10\n",
      "\u001b[1m12/12\u001b[0m \u001b[32m━━━━━━━━━━━━━━━━━━━━\u001b[0m\u001b[37m\u001b[0m \u001b[1m43s\u001b[0m 4s/step - accuracy: 1.0000 - loss: 6.4865e-06 - val_accuracy: 1.0000 - val_loss: 6.3701e-09\n",
      "Epoch 6/10\n",
      "\u001b[1m12/12\u001b[0m \u001b[32m━━━━━━━━━━━━━━━━━━━━\u001b[0m\u001b[37m\u001b[0m \u001b[1m43s\u001b[0m 4s/step - accuracy: 1.0000 - loss: 2.2539e-06 - val_accuracy: 1.0000 - val_loss: 1.7934e-09\n",
      "Epoch 7/10\n",
      "\u001b[1m12/12\u001b[0m \u001b[32m━━━━━━━━━━━━━━━━━━━━\u001b[0m\u001b[37m\u001b[0m \u001b[1m44s\u001b[0m 4s/step - accuracy: 1.0000 - loss: 2.0041e-07 - val_accuracy: 1.0000 - val_loss: 1.0334e-09\n",
      "Epoch 8/10\n",
      "\u001b[1m12/12\u001b[0m \u001b[32m━━━━━━━━━━━━━━━━━━━━\u001b[0m\u001b[37m\u001b[0m \u001b[1m44s\u001b[0m 4s/step - accuracy: 1.0000 - loss: 1.2825e-06 - val_accuracy: 1.0000 - val_loss: 7.4251e-10\n",
      "Epoch 9/10\n",
      "\u001b[1m12/12\u001b[0m \u001b[32m━━━━━━━━━━━━━━━━━━━━\u001b[0m\u001b[37m\u001b[0m \u001b[1m44s\u001b[0m 4s/step - accuracy: 1.0000 - loss: 5.5418e-07 - val_accuracy: 1.0000 - val_loss: 6.3110e-10\n",
      "Epoch 10/10\n",
      "\u001b[1m12/12\u001b[0m \u001b[32m━━━━━━━━━━━━━━━━━━━━\u001b[0m\u001b[37m\u001b[0m \u001b[1m44s\u001b[0m 4s/step - accuracy: 1.0000 - loss: 1.3905e-07 - val_accuracy: 1.0000 - val_loss: 5.7906e-10\n",
      "Test loss: Lower is better -  5.795221524884653e-10\n",
      "Test accuracy: Higher is better -  1.0\n"
     ]
    }
   ],
   "source": [
    "# Import libraries\n",
    "# os and numpy for general operations\n",
    "# load_img and img_to_array for loading and converting images\n",
    "# train_test_split from sklearn for splitting the dataset\n",
    "# Sequential, Conv2D, MaxPooling2D, Activation, Dropout, Flatten, Dense from keras for building the model\n",
    "# Adam for the optimizer\n",
    "# EarlyStopping for early stopping\n",
    "\n",
    "import os\n",
    "import numpy as np\n",
    "from tensorflow.keras.preprocessing.image import load_img, img_to_array\n",
    "from sklearn.model_selection import train_test_split\n",
    "from tensorflow.keras.models import Sequential\n",
    "from tensorflow.keras.layers import Conv2D, MaxPooling2D\n",
    "from tensorflow.keras.layers import Activation, Dropout, Flatten, Dense\n",
    "from tensorflow.keras.optimizers import Adam\n",
    "from tensorflow.keras.callbacks import EarlyStopping\n",
    "\n",
    "# Define paths to the directories where the images are stored\n",
    "peak_dir = 'E:\\\\Frankfurt University of Applied Sciences\\\\Individual Project\\Machine Learning\\\\peak_spectrogram1'\n",
    "non_peak_dir = 'E:\\\\Frankfurt University of Applied Sciences\\\\Individual Project\\Machine Learning\\\\Non_peak_spectrogram'\n",
    "\n",
    "# Images are loaded from the directories, converted to arrays, and added to a list\n",
    "# Corresponding labels (1 for peak, 0 for non-peak) are added to another list\n",
    "\n",
    "# Load images and assign labels\n",
    "images = []\n",
    "labels = []\n",
    "\n",
    "# Load peak images\n",
    "for image_file in os.listdir(peak_dir):\n",
    "    image = load_img(os.path.join(peak_dir, image_file), color_mode='grayscale', target_size=(300, 300))\n",
    "    image = img_to_array(image)\n",
    "    images.append(image)\n",
    "    labels.append(1)  # Assign label 1 to peak images\n",
    "\n",
    "# Load non-peak images\n",
    "for image_file in os.listdir(non_peak_dir):\n",
    "    image = load_img(os.path.join(non_peak_dir, image_file), color_mode='grayscale', target_size=(300, 300))\n",
    "    image = img_to_array(image)\n",
    "    images.append(image)\n",
    "    labels.append(0)  # Assign label 0 to non-peak images\n",
    "\n",
    "# Convert lists to arrays\n",
    "images = np.array(images)\n",
    "labels = np.array(labels)\n",
    "\n",
    "# Normalize images\n",
    "# The pixel values are divided by 255 to scale them between 0 and 1\n",
    "images = images / 255.0\n",
    "\n",
    "# Split data into training and validation sets\n",
    "# 80% of the data is used for training and 20% for validation\n",
    "x_train, x_val, y_train, y_val = train_test_split(images, labels, test_size=0.2, random_state=42)\n",
    "\n",
    "# Define CNN model for binary image classification\n",
    "model = Sequential()\n",
    "\n",
    "# First conv block with 32 filters\n",
    "model.add(Conv2D(32, (3, 3), padding='same', input_shape=(300, 300, 1)))\n",
    "model.add(Activation('relu'))\n",
    "model.add(MaxPooling2D(pool_size=(2, 2)))\n",
    "\n",
    "# Second conv block with 64 filters\n",
    "model.add(Conv2D(64, (3, 3), padding='same'))\n",
    "model.add(Activation('relu'))\n",
    "model.add(MaxPooling2D(pool_size=(2, 2)))\n",
    "\n",
    "# Third conv block with 128 filters\n",
    "model.add(Conv2D(128, (3, 3), padding='same'))\n",
    "model.add(Activation('relu'))\n",
    "model.add(MaxPooling2D(pool_size=(2, 2)))\n",
    "\n",
    "# Fourth conv block with 256 filters\n",
    "model.add(Conv2D(256, (3, 3), padding='same'))\n",
    "model.add(Activation('relu'))\n",
    "model.add(MaxPooling2D(pool_size=(2, 2)))\n",
    "\n",
    "# Flatten layer to convert the 3D outputs to 1D vector\n",
    "model.add(Flatten())\n",
    "# Dense layer with 512 neurons\n",
    "model.add(Dense(512, activation='relu'))\n",
    "# Output layer with 1 neuron (for binary classification)\n",
    "model.add(Dense(1, activation='sigmoid'))\n",
    "\n",
    "# Compile model with Adam optimizer\n",
    "# The loss function is binary crossentropy and the metric is accuracy\n",
    "model.compile(loss='binary_crossentropy',\n",
    "              optimizer=Adam(),\n",
    "              metrics=['accuracy'])\n",
    "\n",
    "# Define early stopping\n",
    "# The training will stop if the validation loss does not improve after 3 epochs\n",
    "early_stopping = EarlyStopping(monitor='val_loss', patience=3)\n",
    "\n",
    "# Train model with a specified batch size and early stopping\n",
    "# The model is trained for 10 epochs\n",
    "model.fit(x_train, y_train, validation_data=(x_val, y_val), epochs=10, batch_size=64, callbacks=[early_stopping])\n",
    "\n",
    "# Evaluate model on validation set\n",
    "score = model.evaluate(x_val, y_val, verbose=0)\n",
    "\n",
    "print('Test loss: Lower is better - ', score[0])\n",
    "print('Test accuracy: Higher is better - ', score[1])"
   ]
  },
  {
   "cell_type": "code",
   "execution_count": 7,
   "metadata": {},
   "outputs": [
    {
     "name": "stdout",
     "output_type": "stream",
     "text": [
      "WARNING:tensorflow:5 out of the last 13 calls to <function TensorFlowTrainer.make_predict_function.<locals>.one_step_on_data_distributed at 0x000001A467EC5E40> triggered tf.function retracing. Tracing is expensive and the excessive number of tracings could be due to (1) creating @tf.function repeatedly in a loop, (2) passing tensors with different shapes, (3) passing Python objects instead of tensors. For (1), please define your @tf.function outside of the loop. For (2), @tf.function has reduce_retracing=True option that can avoid unnecessary retracing. For (3), please refer to https://www.tensorflow.org/guide/function#controlling_retracing and https://www.tensorflow.org/api_docs/python/tf/function for  more details.\n",
      "\u001b[1m5/6\u001b[0m \u001b[32m━━━━━━━━━━━━━━━━\u001b[0m\u001b[37m━━━━\u001b[0m \u001b[1m0s\u001b[0m 320ms/stepWARNING:tensorflow:5 out of the last 15 calls to <function TensorFlowTrainer.make_predict_function.<locals>.one_step_on_data_distributed at 0x000001A467EC5E40> triggered tf.function retracing. Tracing is expensive and the excessive number of tracings could be due to (1) creating @tf.function repeatedly in a loop, (2) passing tensors with different shapes, (3) passing Python objects instead of tensors. For (1), please define your @tf.function outside of the loop. For (2), @tf.function has reduce_retracing=True option that can avoid unnecessary retracing. For (3), please refer to https://www.tensorflow.org/guide/function#controlling_retracing and https://www.tensorflow.org/api_docs/python/tf/function for  more details.\n",
      "\u001b[1m6/6\u001b[0m \u001b[32m━━━━━━━━━━━━━━━━━━━━\u001b[0m\u001b[37m\u001b[0m \u001b[1m2s\u001b[0m 308ms/step\n"
     ]
    },
    {
     "data": {
      "image/png": "[encoded data removed]",
      "text/plain": [
       "<Figure size 1000x700 with 2 Axes>"
      ]
     },
     "metadata": {},
     "output_type": "display_data"
    }
   ],
   "source": [
    "from sklearn.metrics import confusion_matrix\n",
    "import seaborn as sns\n",
    "import matplotlib.pyplot as plt\n",
    "\n",
    "# Predict classes\n",
    "y_pred = (model.predict(x_val) > 0.5).astype(\"int32\")\n",
    "\n",
    "# Generate confusion matrix\n",
    "cm = confusion_matrix(y_val, y_pred)\n",
    "\n",
    "# Plot confusion matrix\n",
    "plt.figure(figsize=(10, 7))\n",
    "sns.heatmap(cm, annot=True, fmt='d', cmap='Blues')\n",
    "plt.xlabel('Predicted')\n",
    "plt.ylabel('Truth')\n",
    "\n",
    "# Add labels to the plot\n",
    "plt.text(0.1, 0.1, 'True Negative', horizontalalignment='left', verticalalignment='top', fontsize=14, color='black')\n",
    "plt.text(1.1, 0.1, 'False Positive', horizontalalignment='left', verticalalignment='top', fontsize=14, color='black')\n",
    "plt.text(0.1, 1.1, 'False Negative', horizontalalignment='left', verticalalignment='top', fontsize=14, color='black')\n",
    "plt.text(1.1, 1.1, 'True Positive', horizontalalignment='left', verticalalignment='top', fontsize=14, color='black')\n",
    "\n",
    "plt.show()"
   ]
  },
  {
   "cell_type": "code",
   "execution_count": 8,
   "metadata": {},
   "outputs": [
    {
     "name": "stdout",
     "output_type": "stream",
     "text": [
      "\u001b[1m6/6\u001b[0m \u001b[32m━━━━━━━━━━━━━━━━━━━━\u001b[0m\u001b[37m\u001b[0m \u001b[1m2s\u001b[0m 284ms/step\n",
      "              precision    recall  f1-score   support\n",
      "\n",
      "    non-peak       1.00      1.00      1.00        99\n",
      "        peak       1.00      1.00      1.00        79\n",
      "\n",
      "    accuracy                           1.00       178\n",
      "   macro avg       1.00      1.00      1.00       178\n",
      "weighted avg       1.00      1.00      1.00       178\n",
      "\n"
     ]
    }
   ],
   "source": [
    "from sklearn.metrics import classification_report\n",
    "\n",
    "# Predict classes\n",
    "y_pred = (model.predict(x_val) > 0.5).astype(\"int32\")\n",
    "\n",
    "# Generate classification report\n",
    "# 'non-peak' corresponds to label 0 and 'peak' corresponds to label 1\n",
    "report = classification_report(y_val, y_pred, target_names=['non-peak', 'peak'])\n",
    "\n",
    "print(report)"
   ]
  }
 ],
 "metadata": {
  "kernelspec": {
   "display_name": "Python 3",
   "language": "python",
   "name": "python3"
  },
  "language_info": {
   "codemirror_mode": {
    "name": "ipython",
    "version": 3
   },
   "file_extension": ".py",
   "mimetype": "text/x-python",
   "name": "python",
   "nbconvert_exporter": "python",
   "pygments_lexer": "ipython3",
   "version": "3.12.1"
  }
 },
 "nbformat": 4,
 "nbformat_minor": 2
}
